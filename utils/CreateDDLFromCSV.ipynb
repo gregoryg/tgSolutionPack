{
 "cells": [
  {
   "cell_type": "code",
   "execution_count": 1,
   "id": "ac64d78c",
   "metadata": {},
   "outputs": [],
   "source": [
    "with open('synthea/data/providers.csv') as f:\n",
    "    lines = f.readlines()"
   ]
  },
  {
   "cell_type": "code",
   "execution_count": 30,
   "id": "36f2cc83",
   "metadata": {},
   "outputs": [
    {
     "name": "stdout",
     "output_type": "stream",
     "text": [
      "total count is 1437\n"
     ]
    }
   ],
   "source": [
    "count = 0\n",
    "for line in lines:\n",
    "    if count == 0:\n",
    "        header = line\n",
    "    count += 1\n",
    "print(f'total count is {count}')  "
   ]
  },
  {
   "cell_type": "code",
   "execution_count": 31,
   "id": "fd3169ef",
   "metadata": {},
   "outputs": [
    {
     "name": "stdout",
     "output_type": "stream",
     "text": [
      "header is: ['Id', 'ORGANIZATION', 'NAME', 'GENDER', 'SPECIALITY', 'ADDRESS', 'CITY', 'STATE', 'ZIP', 'LAT', 'LON', 'UTILIZATION', 'COUNTY\\n']\n"
     ]
    }
   ],
   "source": [
    "## tokenize the header\n",
    "columnNames = header.split(',')\n",
    "print(f'header is: {columnNames}')"
   ]
  },
  {
   "cell_type": "code",
   "execution_count": 54,
   "id": "92f6c326",
   "metadata": {},
   "outputs": [],
   "source": [
    "ddlFile = open(\"providers.ddl\",\"w\")"
   ]
  },
  {
   "cell_type": "code",
   "execution_count": 55,
   "id": "fa5ee513",
   "metadata": {},
   "outputs": [
    {
     "data": {
      "text/plain": [
       "25"
      ]
     },
     "execution_count": 55,
     "metadata": {},
     "output_type": "execute_result"
    }
   ],
   "source": [
    "ddlFile.write('Drop table if exists providers\\n')\n",
    "ddlFile.write(\"Create table providers (\\n\")"
   ]
  },
  {
   "cell_type": "code",
   "execution_count": 56,
   "id": "3fa9edf7",
   "metadata": {},
   "outputs": [],
   "source": [
    "for col in columnNames:\n",
    "    ddlFile.write(\"   \" + col + \"  VARCHAR(50) )\\n\")"
   ]
  },
  {
   "cell_type": "code",
   "execution_count": 57,
   "id": "17a50c9a",
   "metadata": {},
   "outputs": [
    {
     "data": {
      "text/plain": [
       "2"
      ]
     },
     "execution_count": 57,
     "metadata": {},
     "output_type": "execute_result"
    }
   ],
   "source": [
    "ddlFile.write(\");\")"
   ]
  },
  {
   "cell_type": "code",
   "execution_count": 58,
   "id": "8fddec20",
   "metadata": {},
   "outputs": [],
   "source": [
    "ddlFile.close()"
   ]
  },
  {
   "cell_type": "code",
   "execution_count": null,
   "id": "fbeb4c2e",
   "metadata": {},
   "outputs": [],
   "source": []
  }
 ],
 "metadata": {
  "kernelspec": {
   "display_name": "Python 3",
   "language": "python",
   "name": "python3"
  },
  "language_info": {
   "codemirror_mode": {
    "name": "ipython",
    "version": 3
   },
   "file_extension": ".py",
   "mimetype": "text/x-python",
   "name": "python",
   "nbconvert_exporter": "python",
   "pygments_lexer": "ipython3",
   "version": "3.8.8"
  }
 },
 "nbformat": 4,
 "nbformat_minor": 5
}
